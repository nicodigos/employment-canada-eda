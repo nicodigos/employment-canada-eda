{
 "cells": [
  {
   "cell_type": "code",
   "execution_count": 1,
   "id": "d1c3939c-2ba4-41a7-a274-6ea12df5e9a0",
   "metadata": {},
   "outputs": [],
   "source": [
    "import pandas as pd"
   ]
  },
  {
   "cell_type": "code",
   "execution_count": 2,
   "id": "a6f74084-b2bf-4c52-8a00-5c6ce3ad13a9",
   "metadata": {},
   "outputs": [],
   "source": [
    "df = pd.read_csv(\"Unemployment_Canada_1976_present.csv\")"
   ]
  },
  {
   "cell_type": "code",
   "execution_count": 11,
   "id": "6cfe44f1-eb1f-48e1-a6d4-840571659aa2",
   "metadata": {},
   "outputs": [],
   "source": [
    "# df.sample(1).transpose()"
   ]
  },
  {
   "cell_type": "code",
   "execution_count": 12,
   "id": "35cfaefd-79fc-4f3a-8c97-83acab2e4b21",
   "metadata": {},
   "outputs": [],
   "source": [
    "# Lets see how many fields are calculated\n",
    "\n",
    "# This is the result of run df.sample(1).transpose() once\n",
    "# I could use seeds to obtain same result each time that I run the code\n",
    "# but this task doesn't deserve that much effort since is just a quick look \n",
    "\n",
    "# REF_DATE \t2005-02\n",
    "# GEO \tNova Scotia\n",
    "# Sex \tBoth sexes\n",
    "# Age group \t15 years and over\n",
    "# Employment \t440800.0\n",
    "# Full-time employment \t364700.0\n",
    "# Labour force \t487300.0\n",
    "# Part-time employment \t76100.0\n",
    "# Population \t759700.0\n",
    "# Unemployment \t46500.0\n",
    "# Employment rate \t58.0\n",
    "# Participation rate \t64.1\n",
    "# Unemployment rate \t9.5"
   ]
  },
  {
   "cell_type": "code",
   "execution_count": 14,
   "id": "f440da9a-c21a-43c9-bb80-61a97dcb1c8f",
   "metadata": {},
   "outputs": [
    {
     "data": {
      "text/plain": [
       "-46500.0"
      ]
     },
     "execution_count": 14,
     "metadata": {},
     "output_type": "execute_result"
    }
   ],
   "source": [
    "# Employment minus labour force\n",
    "440800.0 - 487300.0"
   ]
  },
  {
   "cell_type": "code",
   "execution_count": 7,
   "id": "7fb88c40-9d15-49de-9850-b178661bb29b",
   "metadata": {},
   "outputs": [
    {
     "data": {
      "text/plain": [
       "0.6414374095037515"
      ]
     },
     "execution_count": 7,
     "metadata": {},
     "output_type": "execute_result"
    }
   ],
   "source": [
    "487300.0 / 759700.0"
   ]
  },
  {
   "cell_type": "code",
   "execution_count": 8,
   "id": "89320045-ca90-412a-93c3-a3abed8e0dba",
   "metadata": {},
   "outputs": [
    {
     "data": {
      "text/plain": [
       "0.5802290377780703"
      ]
     },
     "execution_count": 8,
     "metadata": {},
     "output_type": "execute_result"
    }
   ],
   "source": [
    "440800.0 / 759700.0"
   ]
  },
  {
   "cell_type": "code",
   "execution_count": 9,
   "id": "f0ecb3b1-d249-4e81-93d6-5d17b3e55bf6",
   "metadata": {},
   "outputs": [
    {
     "data": {
      "text/plain": [
       "0.09542376359532116"
      ]
     },
     "execution_count": 9,
     "metadata": {},
     "output_type": "execute_result"
    }
   ],
   "source": [
    "46500.0 / 487300.0"
   ]
  },
  {
   "cell_type": "markdown",
   "id": "fb6b19f3-686c-4a3f-842d-8632bc2fc67f",
   "metadata": {},
   "source": [
    "# Dimensions\n",
    "\n",
    "The following dimensions are available:\n",
    "\n",
    "1. REF_DATE:The reference period (by year, month)\n",
    "2. GEO: The geographic area\n",
    "3. Sex: The sex being investigated\n",
    "4. Age group: The age group of the economic measure\n",
    "5. Employment: Number of persons who, during the reference week, worked for pay or profit, or performed unpaid family work or had a job but were not at work due to own illness or disability, personal or family responsibilities, labour dispute, vacation, or other reason.\n",
    "6. Full-time employment: Full-time employment consists of persons who usually work 30 hours or more per week at their main or only job.\n",
    "7. Labour force: Number of civilian, non-institutionalized persons 15 years of age and over who, during the reference week, were employed or unemployed.\n",
    "8. Part-time employment: Part-time employment consists of persons who usually work less than 30 hours per week at their main or only job. Part-time employment consists of persons who usually work less than 30 hours per week at their main or only job.\n",
    "9. Population: Number of persons of working age, 15 years and over.\n",
    "10. Unemployment: Number of persons who, during the reference week, were without work, had looked for work in the past four weeks, and were available for work. Those persons on layoff or who had a new job to start in four weeks or less are considered unemployed.\n",
    "11. Employment rate: The employment rate is the number of persons employed expressed as a percentage of the population 15 years of age and over.\n",
    "12. Participation rate: The participation rate is the number of labour force participants expressed as a percentage of the population 15 years of age and over.\n",
    "13. Unemployment rate: The unemployment rate is the number of unemployed persons expressed as a percentage of the labour force.\n",
    "\n",
    "Source\n",
    "\n",
    "[Table 14-10-0287-03 Labour force characteristics by province, monthly, seasonally adjusted](https://www.kaggle.com/datasets/pienik/unemployment-in-canada-by-province-1976-present)"
   ]
  },
  {
   "cell_type": "markdown",
   "id": "1f7ed703-d154-4de6-af1d-aebc5ffe62b0",
   "metadata": {},
   "source": [
    "# Some Questions to Start\n",
    "* In dimension 9, it says it doesn't count people under 15 years old in the population, but that number is different from the Labour Force in dimension 7. Is the difference related to being \"civilian\" or not? What is an institutionalized person?\n",
    "* Are people who are not working or looking for a job not counted as part of the labour force? Regarding this question, in dimension 10, it says that unemployment is for people who do not have a job but were also recently looking for one and were available for work. Since Employment + Unemployment = Labour Force, it becomes obvious that people of working age who are not working or looking for a job are not part of the labour force.\n",
    "* What kind of people of working age are not in the labour force? How can we classify those people?\n",
    "* What is the proportion of people under 15, in the labour force, and over 15 but outside the labour force over time?\n",
    "* Does the data, at some point, have information disaggregated by age?\n",
    "* How are the previous questions related to gender and province?\n"
   ]
  },
  {
   "cell_type": "code",
   "execution_count": 19,
   "id": "f8acab4d-1674-4a06-b969-9c1b44fd51aa",
   "metadata": {},
   "outputs": [
    {
     "data": {
      "text/plain": [
       "Age group\n",
       "15 to 24 years       6215\n",
       "15 to 64 years       6215\n",
       "15 years and over    6215\n",
       "25 to 54 years       6215\n",
       "25 years and over    6215\n",
       "55 years and over    6215\n",
       "15 to 19 years        565\n",
       "20 to 24 years        565\n",
       "55 to 64 years        565\n",
       "Name: count, dtype: int64"
      ]
     },
     "execution_count": 19,
     "metadata": {},
     "output_type": "execute_result"
    }
   ],
   "source": [
    "# Does the data have at some point the information disaggregated by age? \n",
    "# It seems that it is disaggregated, but for example, the category \"15 years and over\" makes me \n",
    "# think that some years do not have disaggregated data, or the data is duplicated.\n",
    "\n",
    "df['Age group'].value_counts()"
   ]
  },
  {
   "cell_type": "code",
   "execution_count": null,
   "id": "3729e4cd-e1d6-408d-8846-6090c909f3ee",
   "metadata": {},
   "outputs": [],
   "source": []
  }
 ],
 "metadata": {
  "kernelspec": {
   "display_name": "Python 3 (ipykernel)",
   "language": "python",
   "name": "python3"
  },
  "language_info": {
   "codemirror_mode": {
    "name": "ipython",
    "version": 3
   },
   "file_extension": ".py",
   "mimetype": "text/x-python",
   "name": "python",
   "nbconvert_exporter": "python",
   "pygments_lexer": "ipython3",
   "version": "3.11.9"
  }
 },
 "nbformat": 4,
 "nbformat_minor": 5
}
